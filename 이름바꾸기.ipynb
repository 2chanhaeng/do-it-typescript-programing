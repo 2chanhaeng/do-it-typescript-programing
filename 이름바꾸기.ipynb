{
 "cells": [
  {
   "cell_type": "code",
   "execution_count": 1,
   "metadata": {},
   "outputs": [],
   "source": [
    "from pathlib import Path\n",
    "root = Path(\".\")"
   ]
  },
  {
   "cell_type": "code",
   "execution_count": 16,
   "metadata": {},
   "outputs": [],
   "source": [
    "def add0infront(x: str):\n",
    "    return \"0\" + x if not x[1].isnumeric() else x"
   ]
  },
  {
   "cell_type": "code",
   "execution_count": 25,
   "metadata": {},
   "outputs": [],
   "source": [
    "for p in root.glob(\"*/\"):\n",
    "    if str(p)[0].isnumeric():\n",
    "        p.rename(\" \".join(str(p).split(\"-\")))\n",
    "\n",
    "\n",
    "for md in root.glob(\"*/*.md\"):\n",
    "    md.rename(md.parent / \" \".join(str(add0infront(md.name)).split(\"-\")))"
   ]
  }
 ],
 "metadata": {
  "kernelspec": {
   "display_name": "Python 3",
   "language": "python",
   "name": "python3"
  },
  "language_info": {
   "codemirror_mode": {
    "name": "ipython",
    "version": 3
   },
   "file_extension": ".py",
   "mimetype": "text/x-python",
   "name": "python",
   "nbconvert_exporter": "python",
   "pygments_lexer": "ipython3",
   "version": "3.11.3"
  },
  "orig_nbformat": 4
 },
 "nbformat": 4,
 "nbformat_minor": 2
}
